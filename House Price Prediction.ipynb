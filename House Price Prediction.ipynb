{
 "cells": [
  {
   "cell_type": "markdown",
   "id": "226519c6",
   "metadata": {},
   "source": [
    "# Problem Statement :\n",
    "\n",
    "A machine learning model is to be proposed to predict a house price based on data related to the house i.e. its area_type, availability, location, size, society, total_sqft, bath and balcony\t\n",
    "\n",
    "### Goals of the Study:\n",
    "\n",
    "The main objectives of this case study are as follows:\n",
    "\n",
    "1. To apply data preprocessing and preparation techniques in order to obtain clean data (EDA)\n",
    "2. To build machine learning models able to predict house price based on house features\n",
    "3. To analyze and compare models performance in order to choose the best model\n"
   ]
  },
  {
   "cell_type": "markdown",
   "id": "ba9444de",
   "metadata": {},
   "source": [
    "#  Importing Required Libraries for EDA"
   ]
  },
  {
   "cell_type": "code",
   "execution_count": 1,
   "id": "32736eb0",
   "metadata": {},
   "outputs": [],
   "source": [
    "\n",
    "import numpy as np\n",
    "import pandas as pd\n",
    "import matplotlib.pyplot as plt\n",
    "import seaborn as sns\n",
    "\n",
    "import warnings\n",
    "warnings.filterwarnings('ignore')\n"
   ]
  },
  {
   "cell_type": "markdown",
   "id": "3b78d662",
   "metadata": {},
   "source": [
    "# Importing the Data"
   ]
  },
  {
   "cell_type": "code",
   "execution_count": 2,
   "id": "feb17827",
   "metadata": {},
   "outputs": [],
   "source": [
    "\n",
    "data = pd.read_csv(\"C:\\\\Users\\\\mehak\\\\Downloads\\\\Machine learning\\\\House_Data.csv\")\n"
   ]
  },
  {
   "cell_type": "code",
   "execution_count": 3,
   "id": "89437b72",
   "metadata": {},
   "outputs": [
    {
     "data": {
      "text/html": [
       "<div>\n",
       "<style scoped>\n",
       "    .dataframe tbody tr th:only-of-type {\n",
       "        vertical-align: middle;\n",
       "    }\n",
       "\n",
       "    .dataframe tbody tr th {\n",
       "        vertical-align: top;\n",
       "    }\n",
       "\n",
       "    .dataframe thead th {\n",
       "        text-align: right;\n",
       "    }\n",
       "</style>\n",
       "<table border=\"1\" class=\"dataframe\">\n",
       "  <thead>\n",
       "    <tr style=\"text-align: right;\">\n",
       "      <th></th>\n",
       "      <th>area_type</th>\n",
       "      <th>availability</th>\n",
       "      <th>location</th>\n",
       "      <th>size</th>\n",
       "      <th>society</th>\n",
       "      <th>total_sqft</th>\n",
       "      <th>bath</th>\n",
       "      <th>balcony</th>\n",
       "      <th>price</th>\n",
       "    </tr>\n",
       "  </thead>\n",
       "  <tbody>\n",
       "    <tr>\n",
       "      <th>0</th>\n",
       "      <td>Plot  Area</td>\n",
       "      <td>Ready To Move</td>\n",
       "      <td>Sarjapur  Road</td>\n",
       "      <td>4 Bedroom</td>\n",
       "      <td>NaN</td>\n",
       "      <td>1</td>\n",
       "      <td>4.0</td>\n",
       "      <td>NaN</td>\n",
       "      <td>120.0</td>\n",
       "    </tr>\n",
       "    <tr>\n",
       "      <th>1</th>\n",
       "      <td>Built-up  Area</td>\n",
       "      <td>Ready To Move</td>\n",
       "      <td>Srirampuram</td>\n",
       "      <td>7 BHK</td>\n",
       "      <td>NaN</td>\n",
       "      <td>5</td>\n",
       "      <td>7.0</td>\n",
       "      <td>3.0</td>\n",
       "      <td>115.0</td>\n",
       "    </tr>\n",
       "    <tr>\n",
       "      <th>2</th>\n",
       "      <td>Plot  Area</td>\n",
       "      <td>18-Dec</td>\n",
       "      <td>Suragajakkanahalli</td>\n",
       "      <td>3 Bedroom</td>\n",
       "      <td>PrhyaK</td>\n",
       "      <td>11</td>\n",
       "      <td>3.0</td>\n",
       "      <td>2.0</td>\n",
       "      <td>74.0</td>\n",
       "    </tr>\n",
       "    <tr>\n",
       "      <th>3</th>\n",
       "      <td>Carpet  Area</td>\n",
       "      <td>Ready To Move</td>\n",
       "      <td>Weavers Colony</td>\n",
       "      <td>1 BHK</td>\n",
       "      <td>NaN</td>\n",
       "      <td>15</td>\n",
       "      <td>1.0</td>\n",
       "      <td>0.0</td>\n",
       "      <td>30.0</td>\n",
       "    </tr>\n",
       "    <tr>\n",
       "      <th>4</th>\n",
       "      <td>Built-up  Area</td>\n",
       "      <td>Ready To Move</td>\n",
       "      <td>Grihalakshmi Layout</td>\n",
       "      <td>5 Bedroom</td>\n",
       "      <td>NaN</td>\n",
       "      <td>24</td>\n",
       "      <td>2.0</td>\n",
       "      <td>2.0</td>\n",
       "      <td>150.0</td>\n",
       "    </tr>\n",
       "    <tr>\n",
       "      <th>5</th>\n",
       "      <td>Plot  Area</td>\n",
       "      <td>Ready To Move</td>\n",
       "      <td>Mysore Road</td>\n",
       "      <td>1 Bedroom</td>\n",
       "      <td>NaN</td>\n",
       "      <td>45</td>\n",
       "      <td>1.0</td>\n",
       "      <td>0.0</td>\n",
       "      <td>23.0</td>\n",
       "    </tr>\n",
       "    <tr>\n",
       "      <th>6</th>\n",
       "      <td>Plot  Area</td>\n",
       "      <td>19-Oct</td>\n",
       "      <td>Whitefield</td>\n",
       "      <td>4 Bedroom</td>\n",
       "      <td>NVaree</td>\n",
       "      <td>60</td>\n",
       "      <td>4.0</td>\n",
       "      <td>2.0</td>\n",
       "      <td>218.0</td>\n",
       "    </tr>\n",
       "    <tr>\n",
       "      <th>7</th>\n",
       "      <td>Super built-up  Area</td>\n",
       "      <td>Ready To Move</td>\n",
       "      <td>Tilak Nagar</td>\n",
       "      <td>1 BHK</td>\n",
       "      <td>NaN</td>\n",
       "      <td>250</td>\n",
       "      <td>2.0</td>\n",
       "      <td>2.0</td>\n",
       "      <td>40.0</td>\n",
       "    </tr>\n",
       "    <tr>\n",
       "      <th>8</th>\n",
       "      <td>Plot  Area</td>\n",
       "      <td>Ready To Move</td>\n",
       "      <td>Hennur Road</td>\n",
       "      <td>2 Bedroom</td>\n",
       "      <td>NaN</td>\n",
       "      <td>276</td>\n",
       "      <td>3.0</td>\n",
       "      <td>3.0</td>\n",
       "      <td>23.0</td>\n",
       "    </tr>\n",
       "    <tr>\n",
       "      <th>9</th>\n",
       "      <td>Super built-up  Area</td>\n",
       "      <td>Ready To Move</td>\n",
       "      <td>Yelahanka New Town</td>\n",
       "      <td>1 BHK</td>\n",
       "      <td>KHatsFl</td>\n",
       "      <td>284</td>\n",
       "      <td>1.0</td>\n",
       "      <td>1.0</td>\n",
       "      <td>8.0</td>\n",
       "    </tr>\n",
       "  </tbody>\n",
       "</table>\n",
       "</div>"
      ],
      "text/plain": [
       "              area_type   availability             location       size  \\\n",
       "0            Plot  Area  Ready To Move       Sarjapur  Road  4 Bedroom   \n",
       "1        Built-up  Area  Ready To Move          Srirampuram      7 BHK   \n",
       "2            Plot  Area         18-Dec   Suragajakkanahalli  3 Bedroom   \n",
       "3          Carpet  Area  Ready To Move       Weavers Colony      1 BHK   \n",
       "4        Built-up  Area  Ready To Move  Grihalakshmi Layout  5 Bedroom   \n",
       "5            Plot  Area  Ready To Move          Mysore Road  1 Bedroom   \n",
       "6            Plot  Area         19-Oct           Whitefield  4 Bedroom   \n",
       "7  Super built-up  Area  Ready To Move          Tilak Nagar      1 BHK   \n",
       "8            Plot  Area  Ready To Move          Hennur Road  2 Bedroom   \n",
       "9  Super built-up  Area  Ready To Move   Yelahanka New Town      1 BHK   \n",
       "\n",
       "   society total_sqft  bath  balcony  price  \n",
       "0      NaN          1   4.0      NaN  120.0  \n",
       "1      NaN          5   7.0      3.0  115.0  \n",
       "2  PrhyaK          11   3.0      2.0   74.0  \n",
       "3      NaN         15   1.0      0.0   30.0  \n",
       "4      NaN         24   2.0      2.0  150.0  \n",
       "5      NaN         45   1.0      0.0   23.0  \n",
       "6  NVaree          60   4.0      2.0  218.0  \n",
       "7      NaN        250   2.0      2.0   40.0  \n",
       "8      NaN        276   3.0      3.0   23.0  \n",
       "9  KHatsFl        284   1.0      1.0    8.0  "
      ]
     },
     "execution_count": 3,
     "metadata": {},
     "output_type": "execute_result"
    }
   ],
   "source": [
    "\n",
    "# Top 10 records\n",
    "data.head(10)\n"
   ]
  },
  {
   "cell_type": "code",
   "execution_count": 4,
   "id": "f8c4a773",
   "metadata": {},
   "outputs": [
    {
     "data": {
      "text/html": [
       "<div>\n",
       "<style scoped>\n",
       "    .dataframe tbody tr th:only-of-type {\n",
       "        vertical-align: middle;\n",
       "    }\n",
       "\n",
       "    .dataframe tbody tr th {\n",
       "        vertical-align: top;\n",
       "    }\n",
       "\n",
       "    .dataframe thead th {\n",
       "        text-align: right;\n",
       "    }\n",
       "</style>\n",
       "<table border=\"1\" class=\"dataframe\">\n",
       "  <thead>\n",
       "    <tr style=\"text-align: right;\">\n",
       "      <th></th>\n",
       "      <th>area_type</th>\n",
       "      <th>availability</th>\n",
       "      <th>location</th>\n",
       "      <th>size</th>\n",
       "      <th>society</th>\n",
       "      <th>total_sqft</th>\n",
       "      <th>bath</th>\n",
       "      <th>balcony</th>\n",
       "      <th>price</th>\n",
       "    </tr>\n",
       "  </thead>\n",
       "  <tbody>\n",
       "    <tr>\n",
       "      <th>13310</th>\n",
       "      <td>Super built-up  Area</td>\n",
       "      <td>Ready To Move</td>\n",
       "      <td>Rajapura</td>\n",
       "      <td>2 BHK</td>\n",
       "      <td>NaN</td>\n",
       "      <td>86.72Sq. Meter</td>\n",
       "      <td>2.0</td>\n",
       "      <td>2.0</td>\n",
       "      <td>40.000</td>\n",
       "    </tr>\n",
       "    <tr>\n",
       "      <th>13311</th>\n",
       "      <td>Super built-up  Area</td>\n",
       "      <td>19-Jul</td>\n",
       "      <td>Sarjapur  Road</td>\n",
       "      <td>2 BHK</td>\n",
       "      <td>Sasta S</td>\n",
       "      <td>870 - 1080</td>\n",
       "      <td>2.0</td>\n",
       "      <td>0.0</td>\n",
       "      <td>28.275</td>\n",
       "    </tr>\n",
       "    <tr>\n",
       "      <th>13312</th>\n",
       "      <td>Super built-up  Area</td>\n",
       "      <td>18-Aug</td>\n",
       "      <td>Magadi Road</td>\n",
       "      <td>2 BHK</td>\n",
       "      <td>Vrenty</td>\n",
       "      <td>884 - 1116</td>\n",
       "      <td>2.0</td>\n",
       "      <td>0.0</td>\n",
       "      <td>46.500</td>\n",
       "    </tr>\n",
       "    <tr>\n",
       "      <th>13313</th>\n",
       "      <td>Super built-up  Area</td>\n",
       "      <td>18-Oct</td>\n",
       "      <td>Electronic City Phase II</td>\n",
       "      <td>2 BHK</td>\n",
       "      <td>SRhtsa</td>\n",
       "      <td>888 - 1290</td>\n",
       "      <td>2.0</td>\n",
       "      <td>0.0</td>\n",
       "      <td>32.670</td>\n",
       "    </tr>\n",
       "    <tr>\n",
       "      <th>13314</th>\n",
       "      <td>Super built-up  Area</td>\n",
       "      <td>Ready To Move</td>\n",
       "      <td>Hoskote</td>\n",
       "      <td>2 BHK</td>\n",
       "      <td>Soose P</td>\n",
       "      <td>929 - 1078</td>\n",
       "      <td>2.0</td>\n",
       "      <td>0.0</td>\n",
       "      <td>28.095</td>\n",
       "    </tr>\n",
       "    <tr>\n",
       "      <th>13315</th>\n",
       "      <td>Super built-up  Area</td>\n",
       "      <td>18-Nov</td>\n",
       "      <td>Thanisandra</td>\n",
       "      <td>2 BHK</td>\n",
       "      <td>Bhe 2ko</td>\n",
       "      <td>934 - 1437</td>\n",
       "      <td>2.0</td>\n",
       "      <td>0.0</td>\n",
       "      <td>58.680</td>\n",
       "    </tr>\n",
       "    <tr>\n",
       "      <th>13316</th>\n",
       "      <td>Super built-up  Area</td>\n",
       "      <td>18-May</td>\n",
       "      <td>Mysore Road</td>\n",
       "      <td>2 BHK</td>\n",
       "      <td>Brama P</td>\n",
       "      <td>942 - 1117</td>\n",
       "      <td>2.0</td>\n",
       "      <td>0.0</td>\n",
       "      <td>50.855</td>\n",
       "    </tr>\n",
       "    <tr>\n",
       "      <th>13317</th>\n",
       "      <td>Super built-up  Area</td>\n",
       "      <td>Ready To Move</td>\n",
       "      <td>Hormavu</td>\n",
       "      <td>2 BHK</td>\n",
       "      <td>SKvanin</td>\n",
       "      <td>943 - 1220</td>\n",
       "      <td>2.0</td>\n",
       "      <td>0.0</td>\n",
       "      <td>38.665</td>\n",
       "    </tr>\n",
       "    <tr>\n",
       "      <th>13318</th>\n",
       "      <td>Super built-up  Area</td>\n",
       "      <td>18-Jun</td>\n",
       "      <td>Mysore Road</td>\n",
       "      <td>2 BHK</td>\n",
       "      <td>Gopia O</td>\n",
       "      <td>980 - 1030</td>\n",
       "      <td>2.0</td>\n",
       "      <td>0.0</td>\n",
       "      <td>35.175</td>\n",
       "    </tr>\n",
       "    <tr>\n",
       "      <th>13319</th>\n",
       "      <td>Super built-up  Area</td>\n",
       "      <td>20-Dec</td>\n",
       "      <td>Whitefield</td>\n",
       "      <td>2 BHK</td>\n",
       "      <td>Somns T</td>\n",
       "      <td>981 - 1249</td>\n",
       "      <td>2.0</td>\n",
       "      <td>0.0</td>\n",
       "      <td>34.555</td>\n",
       "    </tr>\n",
       "  </tbody>\n",
       "</table>\n",
       "</div>"
      ],
      "text/plain": [
       "                  area_type   availability                  location   size  \\\n",
       "13310  Super built-up  Area  Ready To Move                  Rajapura  2 BHK   \n",
       "13311  Super built-up  Area         19-Jul            Sarjapur  Road  2 BHK   \n",
       "13312  Super built-up  Area         18-Aug               Magadi Road  2 BHK   \n",
       "13313  Super built-up  Area         18-Oct  Electronic City Phase II  2 BHK   \n",
       "13314  Super built-up  Area  Ready To Move                   Hoskote  2 BHK   \n",
       "13315  Super built-up  Area         18-Nov               Thanisandra  2 BHK   \n",
       "13316  Super built-up  Area         18-May               Mysore Road  2 BHK   \n",
       "13317  Super built-up  Area  Ready To Move                   Hormavu  2 BHK   \n",
       "13318  Super built-up  Area         18-Jun               Mysore Road  2 BHK   \n",
       "13319  Super built-up  Area         20-Dec                Whitefield  2 BHK   \n",
       "\n",
       "       society      total_sqft  bath  balcony   price  \n",
       "13310      NaN  86.72Sq. Meter   2.0      2.0  40.000  \n",
       "13311  Sasta S      870 - 1080   2.0      0.0  28.275  \n",
       "13312  Vrenty       884 - 1116   2.0      0.0  46.500  \n",
       "13313  SRhtsa       888 - 1290   2.0      0.0  32.670  \n",
       "13314  Soose P      929 - 1078   2.0      0.0  28.095  \n",
       "13315  Bhe 2ko      934 - 1437   2.0      0.0  58.680  \n",
       "13316  Brama P      942 - 1117   2.0      0.0  50.855  \n",
       "13317  SKvanin      943 - 1220   2.0      0.0  38.665  \n",
       "13318  Gopia O      980 - 1030   2.0      0.0  35.175  \n",
       "13319  Somns T      981 - 1249   2.0      0.0  34.555  "
      ]
     },
     "execution_count": 4,
     "metadata": {},
     "output_type": "execute_result"
    }
   ],
   "source": [
    "\n",
    "# Last 10 records\n",
    "data.tail(10)\n"
   ]
  },
  {
   "cell_type": "markdown",
   "id": "e25a3b74",
   "metadata": {},
   "source": [
    "# Understanding and Pre-Processing of Data "
   ]
  },
  {
   "cell_type": "code",
   "execution_count": 5,
   "id": "7eae54bc",
   "metadata": {},
   "outputs": [
    {
     "data": {
      "text/plain": [
       "(13320, 9)"
      ]
     },
     "execution_count": 5,
     "metadata": {},
     "output_type": "execute_result"
    }
   ],
   "source": [
    "\n",
    "data.shape \n"
   ]
  },
  {
   "cell_type": "code",
   "execution_count": 6,
   "id": "02be9bb2",
   "metadata": {},
   "outputs": [
    {
     "name": "stdout",
     "output_type": "stream",
     "text": [
      "<class 'pandas.core.frame.DataFrame'>\n",
      "RangeIndex: 13320 entries, 0 to 13319\n",
      "Data columns (total 9 columns):\n",
      " #   Column        Non-Null Count  Dtype  \n",
      "---  ------        --------------  -----  \n",
      " 0   area_type     13320 non-null  object \n",
      " 1   availability  13320 non-null  object \n",
      " 2   location      13319 non-null  object \n",
      " 3   size          13304 non-null  object \n",
      " 4   society       7818 non-null   object \n",
      " 5   total_sqft    13320 non-null  object \n",
      " 6   bath          13247 non-null  float64\n",
      " 7   balcony       12711 non-null  float64\n",
      " 8   price         13320 non-null  float64\n",
      "dtypes: float64(3), object(6)\n",
      "memory usage: 936.7+ KB\n"
     ]
    }
   ],
   "source": [
    "\n",
    "# There are 13320 rows and 9 columns.Let's have a look at all columns and their respective data types.\n",
    "data.info()\n"
   ]
  },
  {
   "cell_type": "markdown",
   "id": "a0003c90",
   "metadata": {},
   "source": [
    "## Null Value Check"
   ]
  },
  {
   "cell_type": "code",
   "execution_count": 7,
   "id": "72ac4d55",
   "metadata": {},
   "outputs": [
    {
     "data": {
      "text/plain": [
       "area_type        0.00\n",
       "availability     0.00\n",
       "location         0.01\n",
       "size             0.12\n",
       "society         41.31\n",
       "total_sqft       0.00\n",
       "bath             0.55\n",
       "balcony          4.57\n",
       "price            0.00\n",
       "dtype: float64"
      ]
     },
     "execution_count": 7,
     "metadata": {},
     "output_type": "execute_result"
    }
   ],
   "source": [
    "\n",
    "# Gives % of null values for each column\n",
    "round(data.isna().sum()*100/data.shape[0],2)\n"
   ]
  },
  {
   "cell_type": "markdown",
   "id": "89aadbad",
   "metadata": {},
   "source": [
    "### Dropping columns with excessive Null values"
   ]
  },
  {
   "cell_type": "code",
   "execution_count": 8,
   "id": "9306d254",
   "metadata": {},
   "outputs": [],
   "source": [
    "\n",
    "# Since society has 41% null values, we will drop it\n",
    "data.drop(columns=['society'],inplace=True)\n"
   ]
  },
  {
   "cell_type": "markdown",
   "id": "053b605d",
   "metadata": {},
   "source": [
    "### Dropping rows with Null values"
   ]
  },
  {
   "cell_type": "code",
   "execution_count": 9,
   "id": "429eca18",
   "metadata": {},
   "outputs": [],
   "source": [
    "\n",
    "# Dropping rows that have null values for size\n",
    "data.dropna(subset=['size'], how='all', inplace=True)\n"
   ]
  },
  {
   "cell_type": "code",
   "execution_count": 10,
   "id": "f5c28288",
   "metadata": {},
   "outputs": [
    {
     "data": {
      "text/plain": [
       "(13304, 8)"
      ]
     },
     "execution_count": 10,
     "metadata": {},
     "output_type": "execute_result"
    }
   ],
   "source": [
    "\n",
    "data.shape\n"
   ]
  },
  {
   "cell_type": "markdown",
   "id": "5933c5a7",
   "metadata": {},
   "source": [
    "### Filling of Null Values"
   ]
  },
  {
   "cell_type": "code",
   "execution_count": 11,
   "id": "5d6550c6",
   "metadata": {},
   "outputs": [],
   "source": [
    "\n",
    "# Location has 1 null value which we will replace with the mode of location values\n",
    "data.location.fillna(data.location.mode()[0],inplace=True)\n"
   ]
  },
  {
   "cell_type": "code",
   "execution_count": 12,
   "id": "fbce20eb",
   "metadata": {},
   "outputs": [],
   "source": [
    "\n",
    "# Null bath values can be replaced with 1.Houses will have atleast one bathroom\n",
    "data.bath.fillna(1,inplace=True)\n"
   ]
  },
  {
   "cell_type": "code",
   "execution_count": 13,
   "id": "9df14018",
   "metadata": {},
   "outputs": [],
   "source": [
    "\n",
    "# Null balcony values can be replaced with 0\n",
    "data.balcony.fillna(0,inplace=True)\n"
   ]
  },
  {
   "cell_type": "code",
   "execution_count": 14,
   "id": "76f9aa4d",
   "metadata": {},
   "outputs": [
    {
     "data": {
      "text/plain": [
       "area_type       0\n",
       "availability    0\n",
       "location        0\n",
       "size            0\n",
       "total_sqft      0\n",
       "bath            0\n",
       "balcony         0\n",
       "price           0\n",
       "dtype: int64"
      ]
     },
     "execution_count": 14,
     "metadata": {},
     "output_type": "execute_result"
    }
   ],
   "source": [
    "\n",
    "# All null values are dealt with\n",
    "data.isna().sum()\n"
   ]
  },
  {
   "cell_type": "markdown",
   "id": "c5fb061e",
   "metadata": {},
   "source": [
    "## Conversion of square feet values"
   ]
  },
  {
   "cell_type": "code",
   "execution_count": 15,
   "id": "0d0b1c22",
   "metadata": {},
   "outputs": [],
   "source": [
    "# Notice that total sqft is of object data type, change that to float by using conversion() function. \n",
    "# This function converts all other area units to square feet as well.\n",
    "\n",
    "def conversion(x) :\n",
    "    try :\n",
    "        if 'Perch' in x :\n",
    "            x = x.replace('Perch','')\n",
    "            return float(x)*272.3\n",
    "        \n",
    "        elif 'Sq. Meter' in x:\n",
    "            x = x.replace('Sq. Meter','')\n",
    "            return float(x)*10.764\n",
    "        \n",
    "        elif 'Sq. Yards' in x:\n",
    "            x = x.replace('Sq. Yards','')\n",
    "            return float(x)*9\n",
    "        \n",
    "        elif 'Acres' in x:\n",
    "            x = x.replace('Acres','')\n",
    "            return float(x)*43560\n",
    "        \n",
    "        elif 'Cents' in x :\n",
    "            x = x.replace('Cents','')\n",
    "            return float(x)*435.56\n",
    "        \n",
    "        elif 'Guntha' in x:\n",
    "            x = x.replace('Guntha','')\n",
    "            return float(x)*1089\n",
    "        \n",
    "        elif 'Grounds' in x :\n",
    "            x = x.replace('Grounds','')\n",
    "            return float(x)*2400.35\n",
    "        \n",
    "        else:\n",
    "            return float(x)\n",
    "           \n",
    "    except:    \n",
    "        # Exception occurs in cases where area range is given (for eg 2100-2800)\n",
    "        list_ = x.split(\"-\")\n",
    "        arr = np.array(list_,dtype=float)\n",
    "        return arr.mean()  # In this case mean is returned\n",
    "\n",
    "data.total_sqft = data.total_sqft.apply(lambda x : conversion(x))\n"
   ]
  },
  {
   "cell_type": "markdown",
   "id": "e4b1231a",
   "metadata": {},
   "source": [
    "## Transforming Size column "
   ]
  },
  {
   "cell_type": "code",
   "execution_count": 16,
   "id": "eaa39a4e",
   "metadata": {},
   "outputs": [],
   "source": [
    "\n",
    "# Also size column can be converted to integer which shows 'bhk' value\n",
    "data['bhk']=data['size'].str.split().str.get(0).astype(int)\n"
   ]
  },
  {
   "cell_type": "code",
   "execution_count": 17,
   "id": "87630d55",
   "metadata": {},
   "outputs": [],
   "source": [
    "\n",
    "# Now we don't know need size column so drop it\n",
    "data.drop(columns=['size'],inplace=True)  \n"
   ]
  },
  {
   "cell_type": "markdown",
   "id": "64a319a5",
   "metadata": {},
   "source": [
    "# Correlation Check"
   ]
  },
  {
   "cell_type": "code",
   "execution_count": 18,
   "id": "0974310c",
   "metadata": {
    "scrolled": true
   },
   "outputs": [
    {
     "data": {
      "text/html": [
       "<div>\n",
       "<style scoped>\n",
       "    .dataframe tbody tr th:only-of-type {\n",
       "        vertical-align: middle;\n",
       "    }\n",
       "\n",
       "    .dataframe tbody tr th {\n",
       "        vertical-align: top;\n",
       "    }\n",
       "\n",
       "    .dataframe thead th {\n",
       "        text-align: right;\n",
       "    }\n",
       "</style>\n",
       "<table border=\"1\" class=\"dataframe\">\n",
       "  <thead>\n",
       "    <tr style=\"text-align: right;\">\n",
       "      <th></th>\n",
       "      <th>total_sqft</th>\n",
       "      <th>bath</th>\n",
       "      <th>balcony</th>\n",
       "      <th>price</th>\n",
       "      <th>bhk</th>\n",
       "    </tr>\n",
       "  </thead>\n",
       "  <tbody>\n",
       "    <tr>\n",
       "      <th>total_sqft</th>\n",
       "      <td>1.000000</td>\n",
       "      <td>0.052777</td>\n",
       "      <td>-0.007114</td>\n",
       "      <td>0.048976</td>\n",
       "      <td>0.054270</td>\n",
       "    </tr>\n",
       "    <tr>\n",
       "      <th>bath</th>\n",
       "      <td>0.052777</td>\n",
       "      <td>1.000000</td>\n",
       "      <td>0.079789</td>\n",
       "      <td>0.452434</td>\n",
       "      <td>0.892177</td>\n",
       "    </tr>\n",
       "    <tr>\n",
       "      <th>balcony</th>\n",
       "      <td>-0.007114</td>\n",
       "      <td>0.079789</td>\n",
       "      <td>1.000000</td>\n",
       "      <td>0.019501</td>\n",
       "      <td>0.067480</td>\n",
       "    </tr>\n",
       "    <tr>\n",
       "      <th>price</th>\n",
       "      <td>0.048976</td>\n",
       "      <td>0.452434</td>\n",
       "      <td>0.019501</td>\n",
       "      <td>1.000000</td>\n",
       "      <td>0.398292</td>\n",
       "    </tr>\n",
       "    <tr>\n",
       "      <th>bhk</th>\n",
       "      <td>0.054270</td>\n",
       "      <td>0.892177</td>\n",
       "      <td>0.067480</td>\n",
       "      <td>0.398292</td>\n",
       "      <td>1.000000</td>\n",
       "    </tr>\n",
       "  </tbody>\n",
       "</table>\n",
       "</div>"
      ],
      "text/plain": [
       "            total_sqft      bath   balcony     price       bhk\n",
       "total_sqft    1.000000  0.052777 -0.007114  0.048976  0.054270\n",
       "bath          0.052777  1.000000  0.079789  0.452434  0.892177\n",
       "balcony      -0.007114  0.079789  1.000000  0.019501  0.067480\n",
       "price         0.048976  0.452434  0.019501  1.000000  0.398292\n",
       "bhk           0.054270  0.892177  0.067480  0.398292  1.000000"
      ]
     },
     "execution_count": 18,
     "metadata": {},
     "output_type": "execute_result"
    }
   ],
   "source": [
    "\n",
    "data.corr()\n"
   ]
  },
  {
   "cell_type": "code",
   "execution_count": 19,
   "id": "1929ace4",
   "metadata": {},
   "outputs": [
    {
     "data": {
      "image/png": "[encoded data removed]",
      "text/plain": [
       "<Figure size 720x504 with 2 Axes>"
      ]
     },
     "metadata": {
      "needs_background": "light"
     },
     "output_type": "display_data"
    }
   ],
   "source": [
    "\n",
    "plt.figure(figsize=(10,7))\n",
    "sns.heatmap(data.corr(),vmax=.8,linewidth=.01, square = True, annot = True,cmap='YlGnBu',linecolor ='black')\n",
    "plt.show()\n"
   ]
  },
  {
   "cell_type": "code",
   "execution_count": 20,
   "id": "809fce0c",
   "metadata": {},
   "outputs": [],
   "source": [
    "\n",
    "# We see bath and bhk are highly correlated, so I will drop one of them\n",
    "# Here I am dropping bhk column\n",
    "\n",
    "data.drop(columns=['bhk'],inplace=True)\n"
   ]
  },
  {
   "cell_type": "markdown",
   "id": "1fbe0785",
   "metadata": {},
   "source": [
    "# Distinct Groups in Each Column"
   ]
  },
  {
   "cell_type": "code",
   "execution_count": 21,
   "id": "e618c215",
   "metadata": {},
   "outputs": [
    {
     "name": "stdout",
     "output_type": "stream",
     "text": [
      "area_type ->\n",
      "Super built-up  Area    8790\n",
      "Built-up  Area          2418\n",
      "Plot  Area              2009\n",
      "Carpet  Area              87\n",
      "Name: area_type, dtype: int64\n",
      "\n",
      "****************************************\n",
      "\n",
      "availability ->\n",
      "Ready To Move    10581\n",
      "18-Dec             307\n",
      "18-May             295\n",
      "18-Apr             271\n",
      "18-Aug             200\n",
      "                 ...  \n",
      "15-Aug               1\n",
      "15-Jun               1\n",
      "15-Dec               1\n",
      "16-Nov               1\n",
      "17-Jan               1\n",
      "Name: availability, Length: 80, dtype: int64\n",
      "\n",
      "****************************************\n",
      "\n",
      "location ->\n",
      "Whitefield             540\n",
      "Sarjapur  Road         397\n",
      "Electronic City        302\n",
      "Kanakpura Road         273\n",
      "Thanisandra            234\n",
      "                      ... \n",
      "Kamdhenu Nagar           1\n",
      "Jagajyothi layout        1\n",
      "1Channasandra            1\n",
      "Chowdeshwari Layout      1\n",
      "arudi                    1\n",
      "Name: location, Length: 1304, dtype: int64\n",
      "\n",
      "****************************************\n",
      "\n",
      "total_sqft ->\n",
      "1200.0    843\n",
      "1100.0    221\n",
      "1500.0    204\n",
      "2400.0    195\n",
      "600.0     180\n",
      "         ... \n",
      "2008.0      1\n",
      "2015.0      1\n",
      "2019.0      1\n",
      "2023.0      1\n",
      "1081.5      1\n",
      "Name: total_sqft, Length: 2033, dtype: int64\n",
      "\n",
      "****************************************\n",
      "\n",
      "bath ->\n",
      "2.0     6908\n",
      "3.0     3286\n",
      "4.0     1226\n",
      "1.0      845\n",
      "5.0      524\n",
      "6.0      273\n",
      "7.0      102\n",
      "8.0       64\n",
      "9.0       43\n",
      "10.0      13\n",
      "12.0       7\n",
      "11.0       3\n",
      "13.0       3\n",
      "16.0       2\n",
      "18.0       1\n",
      "15.0       1\n",
      "40.0       1\n",
      "14.0       1\n",
      "27.0       1\n",
      "Name: bath, dtype: int64\n",
      "\n",
      "****************************************\n",
      "\n",
      "balcony ->\n",
      "2.0    5113\n",
      "1.0    4897\n",
      "3.0    1672\n",
      "0.0    1622\n",
      "Name: balcony, dtype: int64\n",
      "\n",
      "****************************************\n",
      "\n",
      "price ->\n",
      "75.000    310\n",
      "65.000    302\n",
      "55.000    275\n",
      "60.000    270\n",
      "45.000    240\n",
      "         ... \n",
      "56.900      1\n",
      "64.150      1\n",
      "77.930      1\n",
      "45.980      1\n",
      "34.555      1\n",
      "Name: price, Length: 1985, dtype: int64\n",
      "\n",
      "****************************************\n",
      "\n"
     ]
    }
   ],
   "source": [
    "\n",
    "for i in data.columns:\n",
    "    print(i,\"->\")\n",
    "    print(data[i].value_counts())\n",
    "    print()\n",
    "    print(\"*\"*40)\n",
    "    print()\n",
    "    "
   ]
  },
  {
   "cell_type": "markdown",
   "id": "0eb7ea02",
   "metadata": {},
   "source": [
    "## Transforming location Column"
   ]
  },
  {
   "cell_type": "code",
   "execution_count": 22,
   "id": "f3ca5625",
   "metadata": {},
   "outputs": [
    {
     "data": {
      "text/plain": [
       "1304"
      ]
     },
     "execution_count": 22,
     "metadata": {},
     "output_type": "execute_result"
    }
   ],
   "source": [
    "\n",
    "data.location.nunique()  # 1304 unique values \n"
   ]
  },
  {
   "cell_type": "code",
   "execution_count": 23,
   "id": "5f1ef5db",
   "metadata": {},
   "outputs": [],
   "source": [
    "\n",
    "#location column is a categorical column , this needs to be converted to numerical column .\n",
    "#When we convert to numerical column we will get too many columns using One hot encoder \n",
    "#All those locations which have really less count, mark it to Others in order to limit the features\n"
   ]
  },
  {
   "cell_type": "code",
   "execution_count": 24,
   "id": "a1819c2d",
   "metadata": {},
   "outputs": [
    {
     "data": {
      "text/plain": [
       "HBR Layout              20\n",
       "Poorna Pragna Layout    20\n",
       "Sanjay nagar            20\n",
       "Yelachenahalli          20\n",
       "HRBR Layout             19\n",
       "                        ..\n",
       "Kamdhenu Nagar           1\n",
       "Jagajyothi layout        1\n",
       "1Channasandra            1\n",
       "Chowdeshwari Layout      1\n",
       "arudi                    1\n",
       "Name: location, Length: 1160, dtype: int64"
      ]
     },
     "execution_count": 24,
     "metadata": {},
     "output_type": "execute_result"
    }
   ],
   "source": [
    "\n",
    "location_count= data['location'].value_counts()\n",
    "\n",
    "location_count_less_20= location_count[location_count<=20]\n",
    "location_count_less_20\n"
   ]
  },
  {
   "cell_type": "code",
   "execution_count": 25,
   "id": "967929a3",
   "metadata": {},
   "outputs": [],
   "source": [
    "\n",
    "# So if the area is having less than or equal to 20 houses I will mark them as \"Others\" \n",
    "\n",
    "data['location']=data['location'].apply(lambda x:'Others' if x in location_count_less_20 else x)\n"
   ]
  },
  {
   "cell_type": "code",
   "execution_count": 26,
   "id": "6dfffb10",
   "metadata": {},
   "outputs": [
    {
     "data": {
      "text/plain": [
       "Others                4296\n",
       "Whitefield             540\n",
       "Sarjapur  Road         397\n",
       "Electronic City        302\n",
       "Kanakpura Road         273\n",
       "                      ... \n",
       "Domlur                  22\n",
       "Ulsoor                  21\n",
       "Hoskote                 21\n",
       "Binny Pete              21\n",
       "Basaveshwara Nagar      21\n",
       "Name: location, Length: 145, dtype: int64"
      ]
     },
     "execution_count": 26,
     "metadata": {},
     "output_type": "execute_result"
    }
   ],
   "source": [
    "\n",
    "data.location.value_counts()  # 145 unique values left out of 1304\n"
   ]
  },
  {
   "cell_type": "markdown",
   "id": "61ef3320",
   "metadata": {},
   "source": [
    "## Dropping Insignificant Columns"
   ]
  },
  {
   "cell_type": "code",
   "execution_count": 27,
   "id": "82406eb6",
   "metadata": {},
   "outputs": [],
   "source": [
    "\n",
    "data.drop(columns=['availability','balcony'],inplace=True)\n"
   ]
  },
  {
   "cell_type": "markdown",
   "id": "0d933b1e",
   "metadata": {},
   "source": [
    "## Numerical Columns "
   ]
  },
  {
   "cell_type": "code",
   "execution_count": 28,
   "id": "99ec5e23",
   "metadata": {},
   "outputs": [
    {
     "data": {
      "text/html": [
       "<div>\n",
       "<style scoped>\n",
       "    .dataframe tbody tr th:only-of-type {\n",
       "        vertical-align: middle;\n",
       "    }\n",
       "\n",
       "    .dataframe tbody tr th {\n",
       "        vertical-align: top;\n",
       "    }\n",
       "\n",
       "    .dataframe thead th {\n",
       "        text-align: right;\n",
       "    }\n",
       "</style>\n",
       "<table border=\"1\" class=\"dataframe\">\n",
       "  <thead>\n",
       "    <tr style=\"text-align: right;\">\n",
       "      <th></th>\n",
       "      <th>total_sqft</th>\n",
       "      <th>bath</th>\n",
       "      <th>price</th>\n",
       "    </tr>\n",
       "  </thead>\n",
       "  <tbody>\n",
       "    <tr>\n",
       "      <th>count</th>\n",
       "      <td>1.330400e+04</td>\n",
       "      <td>13304.000000</td>\n",
       "      <td>13304.000000</td>\n",
       "    </tr>\n",
       "    <tr>\n",
       "      <th>mean</th>\n",
       "      <td>1.911220e+03</td>\n",
       "      <td>2.685358</td>\n",
       "      <td>112.582035</td>\n",
       "    </tr>\n",
       "    <tr>\n",
       "      <th>std</th>\n",
       "      <td>1.728808e+04</td>\n",
       "      <td>1.343139</td>\n",
       "      <td>148.988398</td>\n",
       "    </tr>\n",
       "    <tr>\n",
       "      <th>min</th>\n",
       "      <td>1.000000e+00</td>\n",
       "      <td>1.000000</td>\n",
       "      <td>8.000000</td>\n",
       "    </tr>\n",
       "    <tr>\n",
       "      <th>25%</th>\n",
       "      <td>1.100000e+03</td>\n",
       "      <td>2.000000</td>\n",
       "      <td>50.000000</td>\n",
       "    </tr>\n",
       "    <tr>\n",
       "      <th>50%</th>\n",
       "      <td>1.276000e+03</td>\n",
       "      <td>2.000000</td>\n",
       "      <td>72.000000</td>\n",
       "    </tr>\n",
       "    <tr>\n",
       "      <th>75%</th>\n",
       "      <td>1.680000e+03</td>\n",
       "      <td>3.000000</td>\n",
       "      <td>120.000000</td>\n",
       "    </tr>\n",
       "    <tr>\n",
       "      <th>max</th>\n",
       "      <td>1.306800e+06</td>\n",
       "      <td>40.000000</td>\n",
       "      <td>3600.000000</td>\n",
       "    </tr>\n",
       "  </tbody>\n",
       "</table>\n",
       "</div>"
      ],
      "text/plain": [
       "         total_sqft          bath         price\n",
       "count  1.330400e+04  13304.000000  13304.000000\n",
       "mean   1.911220e+03      2.685358    112.582035\n",
       "std    1.728808e+04      1.343139    148.988398\n",
       "min    1.000000e+00      1.000000      8.000000\n",
       "25%    1.100000e+03      2.000000     50.000000\n",
       "50%    1.276000e+03      2.000000     72.000000\n",
       "75%    1.680000e+03      3.000000    120.000000\n",
       "max    1.306800e+06     40.000000   3600.000000"
      ]
     },
     "execution_count": 28,
     "metadata": {},
     "output_type": "execute_result"
    }
   ],
   "source": [
    "\n",
    "# Statistical information for numerical columns\n",
    "data.describe()  \n"
   ]
  },
  {
   "cell_type": "markdown",
   "id": "ae35dc0d",
   "metadata": {},
   "source": [
    "# Categorical Columns"
   ]
  },
  {
   "cell_type": "code",
   "execution_count": 29,
   "id": "d33fe4b0",
   "metadata": {},
   "outputs": [
    {
     "data": {
      "text/html": [
       "<div>\n",
       "<style scoped>\n",
       "    .dataframe tbody tr th:only-of-type {\n",
       "        vertical-align: middle;\n",
       "    }\n",
       "\n",
       "    .dataframe tbody tr th {\n",
       "        vertical-align: top;\n",
       "    }\n",
       "\n",
       "    .dataframe thead th {\n",
       "        text-align: right;\n",
       "    }\n",
       "</style>\n",
       "<table border=\"1\" class=\"dataframe\">\n",
       "  <thead>\n",
       "    <tr style=\"text-align: right;\">\n",
       "      <th></th>\n",
       "      <th>area_type</th>\n",
       "      <th>location</th>\n",
       "    </tr>\n",
       "  </thead>\n",
       "  <tbody>\n",
       "    <tr>\n",
       "      <th>count</th>\n",
       "      <td>13304</td>\n",
       "      <td>13304</td>\n",
       "    </tr>\n",
       "    <tr>\n",
       "      <th>unique</th>\n",
       "      <td>4</td>\n",
       "      <td>145</td>\n",
       "    </tr>\n",
       "    <tr>\n",
       "      <th>top</th>\n",
       "      <td>Super built-up  Area</td>\n",
       "      <td>Others</td>\n",
       "    </tr>\n",
       "    <tr>\n",
       "      <th>freq</th>\n",
       "      <td>8790</td>\n",
       "      <td>4296</td>\n",
       "    </tr>\n",
       "  </tbody>\n",
       "</table>\n",
       "</div>"
      ],
      "text/plain": [
       "                   area_type location\n",
       "count                  13304    13304\n",
       "unique                     4      145\n",
       "top     Super built-up  Area   Others\n",
       "freq                    8790     4296"
      ]
     },
     "execution_count": 29,
     "metadata": {},
     "output_type": "execute_result"
    }
   ],
   "source": [
    "\n",
    "data.describe(include = 'object')\n"
   ]
  },
  {
   "cell_type": "markdown",
   "id": "f43d05a2",
   "metadata": {},
   "source": [
    "# UNIVARIATE ANALYSIS"
   ]
  },
  {
   "cell_type": "code",
   "execution_count": 30,
   "id": "2c1e411b",
   "metadata": {},
   "outputs": [
    {
     "data": {
      "image/png": "[encoded data removed]",
      "text/plain": [
       "<Figure size 1080x432 with 1 Axes>"
      ]
     },
     "metadata": {
      "needs_background": "light"
     },
     "output_type": "display_data"
    }
   ],
   "source": [
    "\n",
    "plt.figure(figsize=(15,6))\n",
    "sns.countplot(data['area_type']) \n",
    "plt.show()\n"
   ]
  },
  {
   "cell_type": "markdown",
   "id": "d4053ef7",
   "metadata": {},
   "source": [
    "### Majority of the houses are in super built-up area and very few are in carpet area"
   ]
  },
  {
   "cell_type": "code",
   "execution_count": 31,
   "id": "f0f791c5",
   "metadata": {},
   "outputs": [
    {
     "data": {
      "image/png": "[encoded data removed]",
      "text/plain": [
       "<Figure size 1080x432 with 1 Axes>"
      ]
     },
     "metadata": {
      "needs_background": "light"
     },
     "output_type": "display_data"
    }
   ],
   "source": [
    "\n",
    "plt.figure(figsize=(15,6))\n",
    "sns.countplot(data['bath']) \n",
    "plt.show()\n"
   ]
  },
  {
   "cell_type": "markdown",
   "id": "38e1aa0c",
   "metadata": {},
   "source": [
    "### More than 50% houses have 2 baths and as the no. of baths keep on increasing the count of houses fall drastically."
   ]
  },
  {
   "cell_type": "code",
   "execution_count": 32,
   "id": "4cc562c4",
   "metadata": {},
   "outputs": [
    {
     "data": {
      "image/png": "[encoded data removed]",
      "text/plain": [
       "<Figure size 1080x432 with 1 Axes>"
      ]
     },
     "metadata": {
      "needs_background": "light"
     },
     "output_type": "display_data"
    }
   ],
   "source": [
    "\n",
    "# Outlier Analysis for 'total square feet' column\n",
    "\n",
    "plt.figure(figsize=(15,6))\n",
    "sns.boxplot(data['total_sqft'])  # A lot of outliers present\n",
    "plt.show()\n"
   ]
  },
  {
   "cell_type": "code",
   "execution_count": 33,
   "id": "3f4ea627",
   "metadata": {},
   "outputs": [
    {
     "data": {
      "image/png": "[encoded data removed]",
      "text/plain": [
       "<Figure size 360x360 with 1 Axes>"
      ]
     },
     "metadata": {
      "needs_background": "light"
     },
     "output_type": "display_data"
    }
   ],
   "source": [
    "\n",
    "# Data is highly skewed\n",
    "sns.displot(data['total_sqft'],kind='kde')\n",
    "plt.show()  \n"
   ]
  },
  {
   "cell_type": "code",
   "execution_count": 34,
   "id": "43f4f530",
   "metadata": {},
   "outputs": [],
   "source": [
    "\n",
    "# To remove right skewness\n",
    "data['total_sqft'] = np.log(data['total_sqft'])\n"
   ]
  },
  {
   "cell_type": "code",
   "execution_count": 35,
   "id": "6e7a2cbd",
   "metadata": {},
   "outputs": [
    {
     "data": {
      "image/png": "[encoded data removed]",
      "text/plain": [
       "<Figure size 360x360 with 1 Axes>"
      ]
     },
     "metadata": {
      "needs_background": "light"
     },
     "output_type": "display_data"
    }
   ],
   "source": [
    "\n",
    "# After log transformation\n",
    "sns.displot(data['total_sqft'],kind='kde')\n",
    "plt.show()\n"
   ]
  },
  {
   "cell_type": "code",
   "execution_count": 36,
   "id": "0c1fad2f",
   "metadata": {},
   "outputs": [],
   "source": [
    "\n",
    "def remove_total_sqft_outliers(data):\n",
    "    \n",
    "    data_out = pd.DataFrame()\n",
    "    for i,j in data.groupby(by=['location','area_type']):\n",
    "        \n",
    "        m = np.mean(j['total_sqft'])\n",
    "        sd = np.std(j['total_sqft'])\n",
    "        final_data = j[((j['total_sqft']) > (m-sd)) & ((j['total_sqft']) <= (m+sd))]\n",
    "        \n",
    "        data_out = pd.concat([data_out, final_data], ignore_index=True)\n",
    "    return data_out\n",
    "\n",
    "data = remove_total_sqft_outliers(data)\n"
   ]
  },
  {
   "cell_type": "code",
   "execution_count": 37,
   "id": "7c9646f4",
   "metadata": {},
   "outputs": [
    {
     "data": {
      "image/png": "[encoded data removed]",
      "text/plain": [
       "<Figure size 1080x432 with 1 Axes>"
      ]
     },
     "metadata": {
      "needs_background": "light"
     },
     "output_type": "display_data"
    }
   ],
   "source": [
    "\n",
    "# After removing outliers\n",
    "\n",
    "plt.figure(figsize=(15,6))\n",
    "sns.boxplot(data['total_sqft'])\n",
    "plt.show()\n"
   ]
  },
  {
   "cell_type": "code",
   "execution_count": 38,
   "id": "5397a3e1",
   "metadata": {},
   "outputs": [
    {
     "data": {
      "text/plain": [
       "(9855, 5)"
      ]
     },
     "execution_count": 38,
     "metadata": {},
     "output_type": "execute_result"
    }
   ],
   "source": [
    "\n",
    "data.shape  # 9855 rows left\n"
   ]
  },
  {
   "cell_type": "code",
   "execution_count": 39,
   "id": "84941470",
   "metadata": {
    "scrolled": true
   },
   "outputs": [
    {
     "data": {
      "image/png": "[encoded data removed]",
      "text/plain": [
       "<Figure size 1080x360 with 1 Axes>"
      ]
     },
     "metadata": {
      "needs_background": "light"
     },
     "output_type": "display_data"
    }
   ],
   "source": [
    "\n",
    "# Outlier Analysis for 'bath' column\n",
    "\n",
    "plt.figure(figsize=(15,5))\n",
    "sns.boxplot(data['bath'])\n",
    "plt.show()\n"
   ]
  },
  {
   "cell_type": "code",
   "execution_count": 40,
   "id": "42cf9427",
   "metadata": {},
   "outputs": [],
   "source": [
    "\n",
    "# To remove outliers\n",
    "\n",
    "data = data[(data['bath'] < 10)]\n"
   ]
  },
  {
   "cell_type": "code",
   "execution_count": 41,
   "id": "f4c5e052",
   "metadata": {},
   "outputs": [
    {
     "data": {
      "image/png": "[encoded data removed]",
      "text/plain": [
       "<Figure size 1080x432 with 1 Axes>"
      ]
     },
     "metadata": {
      "needs_background": "light"
     },
     "output_type": "display_data"
    }
   ],
   "source": [
    "\n",
    "# After removing outliers\n",
    "\n",
    "plt.figure(figsize=(15,6))\n",
    "sns.boxplot(data['bath'])\n",
    "plt.show()\n"
   ]
  },
  {
   "cell_type": "code",
   "execution_count": 42,
   "id": "527d50f2",
   "metadata": {},
   "outputs": [
    {
     "data": {
      "text/plain": [
       "(9835, 5)"
      ]
     },
     "execution_count": 42,
     "metadata": {},
     "output_type": "execute_result"
    }
   ],
   "source": [
    "\n",
    "data.shape   # 9835 rows left\n"
   ]
  },
  {
   "cell_type": "code",
   "execution_count": 43,
   "id": "b13af7e7",
   "metadata": {
    "scrolled": true
   },
   "outputs": [
    {
     "data": {
      "image/png": "[encoded data removed]",
      "text/plain": [
       "<Figure size 1080x360 with 1 Axes>"
      ]
     },
     "metadata": {
      "needs_background": "light"
     },
     "output_type": "display_data"
    }
   ],
   "source": [
    "\n",
    "# Outlier Analysis for 'price' column\n",
    "\n",
    "plt.figure(figsize=(15,5))   # Lots of outliers present \n",
    "sns.boxplot(data['price'])\n",
    "plt.show()\n"
   ]
  },
  {
   "cell_type": "code",
   "execution_count": 44,
   "id": "ec47fe21",
   "metadata": {},
   "outputs": [
    {
     "data": {
      "image/png": "[encoded data removed]",
      "text/plain": [
       "<Figure size 360x360 with 1 Axes>"
      ]
     },
     "metadata": {
      "needs_background": "light"
     },
     "output_type": "display_data"
    }
   ],
   "source": [
    "\n",
    "# Data is highly skewed\n",
    "sns.displot(data['price'],kind='kde')\n",
    "plt.show()\n"
   ]
  },
  {
   "cell_type": "code",
   "execution_count": 45,
   "id": "2d9abe09",
   "metadata": {},
   "outputs": [],
   "source": [
    "\n",
    "# To remove right skewness\n",
    "data['price'] = np.log(data['price'])\n"
   ]
  },
  {
   "cell_type": "code",
   "execution_count": 46,
   "id": "23390207",
   "metadata": {},
   "outputs": [
    {
     "data": {
      "image/png": "[encoded data removed]",
      "text/plain": [
       "<Figure size 360x360 with 1 Axes>"
      ]
     },
     "metadata": {
      "needs_background": "light"
     },
     "output_type": "display_data"
    }
   ],
   "source": [
    "\n",
    "sns.displot(data['price'],kind='kde')\n",
    "plt.show()\n"
   ]
  },
  {
   "cell_type": "code",
   "execution_count": 47,
   "id": "a43b216f",
   "metadata": {
    "scrolled": true
   },
   "outputs": [
    {
     "data": {
      "image/png": "[encoded data removed]",
      "text/plain": [
       "<Figure size 1080x360 with 1 Axes>"
      ]
     },
     "metadata": {
      "needs_background": "light"
     },
     "output_type": "display_data"
    }
   ],
   "source": [
    "\n",
    "plt.figure(figsize=(15,5))   # Still lots of outliers present \n",
    "sns.boxplot(data['price'])\n",
    "plt.show()\n"
   ]
  },
  {
   "cell_type": "code",
   "execution_count": 48,
   "id": "2f84634b",
   "metadata": {},
   "outputs": [],
   "source": [
    "\n",
    "def remove_prices_outliers(data):\n",
    "    \n",
    "    data_out = pd.DataFrame()\n",
    "    for i,j in data.groupby(by=['location','area_type']):\n",
    "        \n",
    "        m = np.mean(j['price'])\n",
    "        sd = np.std(j['price'])\n",
    "        final_data = j[((j['price']) > (m-sd)) & ((j['price']) <= (m+sd))]\n",
    "        \n",
    "        data_out = pd.concat([data_out, final_data], ignore_index=True)\n",
    "    return data_out\n",
    "\n",
    "data = remove_prices_outliers(data)\n"
   ]
  },
  {
   "cell_type": "code",
   "execution_count": 49,
   "id": "9d59e860",
   "metadata": {},
   "outputs": [
    {
     "data": {
      "image/png": "[encoded data removed]",
      "text/plain": [
       "<Figure size 1080x432 with 1 Axes>"
      ]
     },
     "metadata": {
      "needs_background": "light"
     },
     "output_type": "display_data"
    }
   ],
   "source": [
    "\n",
    "# After removing outliers\n",
    "\n",
    "plt.figure(figsize=(15,6))\n",
    "sns.boxplot(data['price'])\n",
    "plt.show()\n"
   ]
  },
  {
   "cell_type": "code",
   "execution_count": 50,
   "id": "4053b146",
   "metadata": {
    "scrolled": true
   },
   "outputs": [
    {
     "data": {
      "text/plain": [
       "(6674, 5)"
      ]
     },
     "execution_count": 50,
     "metadata": {},
     "output_type": "execute_result"
    }
   ],
   "source": [
    "\n",
    "data.shape   # After removing outliers 6674 rows left out of 13,320\n"
   ]
  },
  {
   "cell_type": "markdown",
   "id": "e26ff7ab",
   "metadata": {},
   "source": [
    "# BIVARIATE ANALYSIS"
   ]
  },
  {
   "cell_type": "code",
   "execution_count": 51,
   "id": "86890431",
   "metadata": {},
   "outputs": [
    {
     "data": {
      "image/png": "[encoded data removed]",
      "text/plain": [
       "<Figure size 1080x576 with 1 Axes>"
      ]
     },
     "metadata": {
      "needs_background": "light"
     },
     "output_type": "display_data"
    }
   ],
   "source": [
    "\n",
    "plt.figure(figsize=(15,8))\n",
    "sns.stripplot(x=data['bath'],y=data['price'],hue=data['bath'])\n",
    "plt.show()\n"
   ]
  },
  {
   "cell_type": "markdown",
   "id": "f30fb955",
   "metadata": {},
   "source": [
    "### As the number of bathroom increases, price range goes up."
   ]
  },
  {
   "cell_type": "code",
   "execution_count": 52,
   "id": "c82e9d32",
   "metadata": {},
   "outputs": [
    {
     "data": {
      "image/png": "[encoded data removed]",
      "text/plain": [
       "<Figure size 1080x576 with 1 Axes>"
      ]
     },
     "metadata": {
      "needs_background": "light"
     },
     "output_type": "display_data"
    }
   ],
   "source": [
    "\n",
    "plt.figure(figsize=(15,8))\n",
    "sns.stripplot(data=data,y='price',x='area_type')\n",
    "plt.show()\n"
   ]
  },
  {
   "cell_type": "markdown",
   "id": "5aa1436d",
   "metadata": {},
   "source": [
    "### Price range is lower for built up areas and highest for plot areas."
   ]
  },
  {
   "cell_type": "code",
   "execution_count": 53,
   "id": "1d1c650e",
   "metadata": {
    "scrolled": true
   },
   "outputs": [
    {
     "data": {
      "image/png": "[encoded data removed]",
      "text/plain": [
       "<Figure size 1080x360 with 1 Axes>"
      ]
     },
     "metadata": {
      "needs_background": "light"
     },
     "output_type": "display_data"
    }
   ],
   "source": [
    "\n",
    "plt.figure(figsize=(15,5))\n",
    "sns.scatterplot(data=data,y='price',x='total_sqft')\n",
    "plt.show()\n"
   ]
  },
  {
   "cell_type": "markdown",
   "id": "e8c856f5",
   "metadata": {},
   "source": [
    "### With increase in total square feet area, price is also increasing."
   ]
  },
  {
   "cell_type": "markdown",
   "id": "30cb0c1e",
   "metadata": {},
   "source": [
    "# Clean Data"
   ]
  },
  {
   "cell_type": "code",
   "execution_count": 54,
   "id": "ed426b9d",
   "metadata": {},
   "outputs": [
    {
     "data": {
      "text/html": [
       "<div>\n",
       "<style scoped>\n",
       "    .dataframe tbody tr th:only-of-type {\n",
       "        vertical-align: middle;\n",
       "    }\n",
       "\n",
       "    .dataframe tbody tr th {\n",
       "        vertical-align: top;\n",
       "    }\n",
       "\n",
       "    .dataframe thead th {\n",
       "        text-align: right;\n",
       "    }\n",
       "</style>\n",
       "<table border=\"1\" class=\"dataframe\">\n",
       "  <thead>\n",
       "    <tr style=\"text-align: right;\">\n",
       "      <th></th>\n",
       "      <th>area_type</th>\n",
       "      <th>location</th>\n",
       "      <th>total_sqft</th>\n",
       "      <th>bath</th>\n",
       "      <th>price</th>\n",
       "    </tr>\n",
       "  </thead>\n",
       "  <tbody>\n",
       "    <tr>\n",
       "      <th>0</th>\n",
       "      <td>Plot  Area</td>\n",
       "      <td>1st Phase JP Nagar</td>\n",
       "      <td>7.090077</td>\n",
       "      <td>7.0</td>\n",
       "      <td>5.480639</td>\n",
       "    </tr>\n",
       "    <tr>\n",
       "      <th>1</th>\n",
       "      <td>Super built-up  Area</td>\n",
       "      <td>1st Phase JP Nagar</td>\n",
       "      <td>7.239933</td>\n",
       "      <td>2.0</td>\n",
       "      <td>4.605170</td>\n",
       "    </tr>\n",
       "    <tr>\n",
       "      <th>2</th>\n",
       "      <td>Super built-up  Area</td>\n",
       "      <td>1st Phase JP Nagar</td>\n",
       "      <td>7.371489</td>\n",
       "      <td>3.0</td>\n",
       "      <td>4.875197</td>\n",
       "    </tr>\n",
       "    <tr>\n",
       "      <th>3</th>\n",
       "      <td>Super built-up  Area</td>\n",
       "      <td>1st Phase JP Nagar</td>\n",
       "      <td>7.536364</td>\n",
       "      <td>3.0</td>\n",
       "      <td>5.117994</td>\n",
       "    </tr>\n",
       "    <tr>\n",
       "      <th>4</th>\n",
       "      <td>Super built-up  Area</td>\n",
       "      <td>1st Phase JP Nagar</td>\n",
       "      <td>7.612831</td>\n",
       "      <td>3.0</td>\n",
       "      <td>5.056246</td>\n",
       "    </tr>\n",
       "    <tr>\n",
       "      <th>...</th>\n",
       "      <td>...</td>\n",
       "      <td>...</td>\n",
       "      <td>...</td>\n",
       "      <td>...</td>\n",
       "      <td>...</td>\n",
       "    </tr>\n",
       "    <tr>\n",
       "      <th>6669</th>\n",
       "      <td>Super built-up  Area</td>\n",
       "      <td>Yeshwanthpur</td>\n",
       "      <td>7.434257</td>\n",
       "      <td>3.0</td>\n",
       "      <td>4.682131</td>\n",
       "    </tr>\n",
       "    <tr>\n",
       "      <th>6670</th>\n",
       "      <td>Super built-up  Area</td>\n",
       "      <td>Yeshwanthpur</td>\n",
       "      <td>7.446001</td>\n",
       "      <td>3.0</td>\n",
       "      <td>4.700480</td>\n",
       "    </tr>\n",
       "    <tr>\n",
       "      <th>6671</th>\n",
       "      <td>Super built-up  Area</td>\n",
       "      <td>Yeshwanthpur</td>\n",
       "      <td>7.522941</td>\n",
       "      <td>3.0</td>\n",
       "      <td>4.605170</td>\n",
       "    </tr>\n",
       "    <tr>\n",
       "      <th>6672</th>\n",
       "      <td>Super built-up  Area</td>\n",
       "      <td>Yeshwanthpur</td>\n",
       "      <td>7.575585</td>\n",
       "      <td>4.0</td>\n",
       "      <td>4.867534</td>\n",
       "    </tr>\n",
       "    <tr>\n",
       "      <th>6673</th>\n",
       "      <td>Super built-up  Area</td>\n",
       "      <td>Yeshwanthpur</td>\n",
       "      <td>7.152660</td>\n",
       "      <td>2.0</td>\n",
       "      <td>4.562419</td>\n",
       "    </tr>\n",
       "  </tbody>\n",
       "</table>\n",
       "<p>6674 rows × 5 columns</p>\n",
       "</div>"
      ],
      "text/plain": [
       "                 area_type            location  total_sqft  bath     price\n",
       "0               Plot  Area  1st Phase JP Nagar    7.090077   7.0  5.480639\n",
       "1     Super built-up  Area  1st Phase JP Nagar    7.239933   2.0  4.605170\n",
       "2     Super built-up  Area  1st Phase JP Nagar    7.371489   3.0  4.875197\n",
       "3     Super built-up  Area  1st Phase JP Nagar    7.536364   3.0  5.117994\n",
       "4     Super built-up  Area  1st Phase JP Nagar    7.612831   3.0  5.056246\n",
       "...                    ...                 ...         ...   ...       ...\n",
       "6669  Super built-up  Area        Yeshwanthpur    7.434257   3.0  4.682131\n",
       "6670  Super built-up  Area        Yeshwanthpur    7.446001   3.0  4.700480\n",
       "6671  Super built-up  Area        Yeshwanthpur    7.522941   3.0  4.605170\n",
       "6672  Super built-up  Area        Yeshwanthpur    7.575585   4.0  4.867534\n",
       "6673  Super built-up  Area        Yeshwanthpur    7.152660   2.0  4.562419\n",
       "\n",
       "[6674 rows x 5 columns]"
      ]
     },
     "execution_count": 54,
     "metadata": {},
     "output_type": "execute_result"
    }
   ],
   "source": [
    "\n",
    "data\n"
   ]
  },
  {
   "cell_type": "code",
   "execution_count": 55,
   "id": "39a17f9f",
   "metadata": {},
   "outputs": [
    {
     "data": {
      "text/plain": [
       "(6674, 5)"
      ]
     },
     "execution_count": 55,
     "metadata": {},
     "output_type": "execute_result"
    }
   ],
   "source": [
    "\n",
    "data.shape\n"
   ]
  },
  {
   "cell_type": "code",
   "execution_count": 56,
   "id": "d0046981",
   "metadata": {},
   "outputs": [
    {
     "name": "stdout",
     "output_type": "stream",
     "text": [
      "<class 'pandas.core.frame.DataFrame'>\n",
      "RangeIndex: 6674 entries, 0 to 6673\n",
      "Data columns (total 5 columns):\n",
      " #   Column      Non-Null Count  Dtype  \n",
      "---  ------      --------------  -----  \n",
      " 0   area_type   6674 non-null   object \n",
      " 1   location    6674 non-null   object \n",
      " 2   total_sqft  6674 non-null   float64\n",
      " 3   bath        6674 non-null   float64\n",
      " 4   price       6674 non-null   float64\n",
      "dtypes: float64(3), object(2)\n",
      "memory usage: 260.8+ KB\n"
     ]
    }
   ],
   "source": [
    "\n",
    "data.info()\n"
   ]
  },
  {
   "cell_type": "code",
   "execution_count": 57,
   "id": "a6428030",
   "metadata": {},
   "outputs": [
    {
     "data": {
      "text/html": [
       "<div>\n",
       "<style scoped>\n",
       "    .dataframe tbody tr th:only-of-type {\n",
       "        vertical-align: middle;\n",
       "    }\n",
       "\n",
       "    .dataframe tbody tr th {\n",
       "        vertical-align: top;\n",
       "    }\n",
       "\n",
       "    .dataframe thead th {\n",
       "        text-align: right;\n",
       "    }\n",
       "</style>\n",
       "<table border=\"1\" class=\"dataframe\">\n",
       "  <thead>\n",
       "    <tr style=\"text-align: right;\">\n",
       "      <th></th>\n",
       "      <th>area_type</th>\n",
       "      <th>location</th>\n",
       "      <th>total_sqft</th>\n",
       "      <th>bath</th>\n",
       "      <th>price</th>\n",
       "    </tr>\n",
       "  </thead>\n",
       "  <tbody>\n",
       "    <tr>\n",
       "      <th>count</th>\n",
       "      <td>6674</td>\n",
       "      <td>6674</td>\n",
       "      <td>6674.000000</td>\n",
       "      <td>6674.000000</td>\n",
       "      <td>6674.000000</td>\n",
       "    </tr>\n",
       "    <tr>\n",
       "      <th>unique</th>\n",
       "      <td>4</td>\n",
       "      <td>145</td>\n",
       "      <td>NaN</td>\n",
       "      <td>NaN</td>\n",
       "      <td>NaN</td>\n",
       "    </tr>\n",
       "    <tr>\n",
       "      <th>top</th>\n",
       "      <td>Super built-up  Area</td>\n",
       "      <td>Others</td>\n",
       "      <td>NaN</td>\n",
       "      <td>NaN</td>\n",
       "      <td>NaN</td>\n",
       "    </tr>\n",
       "    <tr>\n",
       "      <th>freq</th>\n",
       "      <td>4527</td>\n",
       "      <td>2386</td>\n",
       "      <td>NaN</td>\n",
       "      <td>NaN</td>\n",
       "      <td>NaN</td>\n",
       "    </tr>\n",
       "    <tr>\n",
       "      <th>mean</th>\n",
       "      <td>NaN</td>\n",
       "      <td>NaN</td>\n",
       "      <td>7.186386</td>\n",
       "      <td>2.536410</td>\n",
       "      <td>4.303345</td>\n",
       "    </tr>\n",
       "    <tr>\n",
       "      <th>std</th>\n",
       "      <td>NaN</td>\n",
       "      <td>NaN</td>\n",
       "      <td>0.244725</td>\n",
       "      <td>1.016104</td>\n",
       "      <td>0.485201</td>\n",
       "    </tr>\n",
       "    <tr>\n",
       "      <th>min</th>\n",
       "      <td>NaN</td>\n",
       "      <td>NaN</td>\n",
       "      <td>5.942799</td>\n",
       "      <td>1.000000</td>\n",
       "      <td>2.327278</td>\n",
       "    </tr>\n",
       "    <tr>\n",
       "      <th>25%</th>\n",
       "      <td>NaN</td>\n",
       "      <td>NaN</td>\n",
       "      <td>7.047517</td>\n",
       "      <td>2.000000</td>\n",
       "      <td>3.984530</td>\n",
       "    </tr>\n",
       "    <tr>\n",
       "      <th>50%</th>\n",
       "      <td>NaN</td>\n",
       "      <td>NaN</td>\n",
       "      <td>7.138867</td>\n",
       "      <td>2.000000</td>\n",
       "      <td>4.219508</td>\n",
       "    </tr>\n",
       "    <tr>\n",
       "      <th>75%</th>\n",
       "      <td>NaN</td>\n",
       "      <td>NaN</td>\n",
       "      <td>7.313220</td>\n",
       "      <td>3.000000</td>\n",
       "      <td>4.543295</td>\n",
       "    </tr>\n",
       "    <tr>\n",
       "      <th>max</th>\n",
       "      <td>NaN</td>\n",
       "      <td>NaN</td>\n",
       "      <td>8.699515</td>\n",
       "      <td>9.000000</td>\n",
       "      <td>6.620073</td>\n",
       "    </tr>\n",
       "  </tbody>\n",
       "</table>\n",
       "</div>"
      ],
      "text/plain": [
       "                   area_type location   total_sqft         bath        price\n",
       "count                   6674     6674  6674.000000  6674.000000  6674.000000\n",
       "unique                     4      145          NaN          NaN          NaN\n",
       "top     Super built-up  Area   Others          NaN          NaN          NaN\n",
       "freq                    4527     2386          NaN          NaN          NaN\n",
       "mean                     NaN      NaN     7.186386     2.536410     4.303345\n",
       "std                      NaN      NaN     0.244725     1.016104     0.485201\n",
       "min                      NaN      NaN     5.942799     1.000000     2.327278\n",
       "25%                      NaN      NaN     7.047517     2.000000     3.984530\n",
       "50%                      NaN      NaN     7.138867     2.000000     4.219508\n",
       "75%                      NaN      NaN     7.313220     3.000000     4.543295\n",
       "max                      NaN      NaN     8.699515     9.000000     6.620073"
      ]
     },
     "execution_count": 57,
     "metadata": {},
     "output_type": "execute_result"
    }
   ],
   "source": [
    "\n",
    "data.describe(include='all')\n"
   ]
  },
  {
   "cell_type": "markdown",
   "id": "4fd86cae",
   "metadata": {},
   "source": [
    "#  Predictive Modelling"
   ]
  },
  {
   "cell_type": "code",
   "execution_count": 58,
   "id": "c2b275cd",
   "metadata": {},
   "outputs": [],
   "source": [
    "\n",
    "x=data.drop(columns=['price'])\n"
   ]
  },
  {
   "cell_type": "code",
   "execution_count": 59,
   "id": "f0ed0e39",
   "metadata": {},
   "outputs": [],
   "source": [
    "\n",
    "y=data['price']\n"
   ]
  },
  {
   "cell_type": "code",
   "execution_count": 60,
   "id": "ab7f0156",
   "metadata": {},
   "outputs": [
    {
     "data": {
      "text/html": [
       "<div>\n",
       "<style scoped>\n",
       "    .dataframe tbody tr th:only-of-type {\n",
       "        vertical-align: middle;\n",
       "    }\n",
       "\n",
       "    .dataframe tbody tr th {\n",
       "        vertical-align: top;\n",
       "    }\n",
       "\n",
       "    .dataframe thead th {\n",
       "        text-align: right;\n",
       "    }\n",
       "</style>\n",
       "<table border=\"1\" class=\"dataframe\">\n",
       "  <thead>\n",
       "    <tr style=\"text-align: right;\">\n",
       "      <th></th>\n",
       "      <th>area_type</th>\n",
       "      <th>location</th>\n",
       "      <th>total_sqft</th>\n",
       "      <th>bath</th>\n",
       "    </tr>\n",
       "  </thead>\n",
       "  <tbody>\n",
       "    <tr>\n",
       "      <th>0</th>\n",
       "      <td>Plot  Area</td>\n",
       "      <td>1st Phase JP Nagar</td>\n",
       "      <td>7.090077</td>\n",
       "      <td>7.0</td>\n",
       "    </tr>\n",
       "    <tr>\n",
       "      <th>1</th>\n",
       "      <td>Super built-up  Area</td>\n",
       "      <td>1st Phase JP Nagar</td>\n",
       "      <td>7.239933</td>\n",
       "      <td>2.0</td>\n",
       "    </tr>\n",
       "    <tr>\n",
       "      <th>2</th>\n",
       "      <td>Super built-up  Area</td>\n",
       "      <td>1st Phase JP Nagar</td>\n",
       "      <td>7.371489</td>\n",
       "      <td>3.0</td>\n",
       "    </tr>\n",
       "    <tr>\n",
       "      <th>3</th>\n",
       "      <td>Super built-up  Area</td>\n",
       "      <td>1st Phase JP Nagar</td>\n",
       "      <td>7.536364</td>\n",
       "      <td>3.0</td>\n",
       "    </tr>\n",
       "    <tr>\n",
       "      <th>4</th>\n",
       "      <td>Super built-up  Area</td>\n",
       "      <td>1st Phase JP Nagar</td>\n",
       "      <td>7.612831</td>\n",
       "      <td>3.0</td>\n",
       "    </tr>\n",
       "    <tr>\n",
       "      <th>...</th>\n",
       "      <td>...</td>\n",
       "      <td>...</td>\n",
       "      <td>...</td>\n",
       "      <td>...</td>\n",
       "    </tr>\n",
       "    <tr>\n",
       "      <th>6669</th>\n",
       "      <td>Super built-up  Area</td>\n",
       "      <td>Yeshwanthpur</td>\n",
       "      <td>7.434257</td>\n",
       "      <td>3.0</td>\n",
       "    </tr>\n",
       "    <tr>\n",
       "      <th>6670</th>\n",
       "      <td>Super built-up  Area</td>\n",
       "      <td>Yeshwanthpur</td>\n",
       "      <td>7.446001</td>\n",
       "      <td>3.0</td>\n",
       "    </tr>\n",
       "    <tr>\n",
       "      <th>6671</th>\n",
       "      <td>Super built-up  Area</td>\n",
       "      <td>Yeshwanthpur</td>\n",
       "      <td>7.522941</td>\n",
       "      <td>3.0</td>\n",
       "    </tr>\n",
       "    <tr>\n",
       "      <th>6672</th>\n",
       "      <td>Super built-up  Area</td>\n",
       "      <td>Yeshwanthpur</td>\n",
       "      <td>7.575585</td>\n",
       "      <td>4.0</td>\n",
       "    </tr>\n",
       "    <tr>\n",
       "      <th>6673</th>\n",
       "      <td>Super built-up  Area</td>\n",
       "      <td>Yeshwanthpur</td>\n",
       "      <td>7.152660</td>\n",
       "      <td>2.0</td>\n",
       "    </tr>\n",
       "  </tbody>\n",
       "</table>\n",
       "<p>6674 rows × 4 columns</p>\n",
       "</div>"
      ],
      "text/plain": [
       "                 area_type            location  total_sqft  bath\n",
       "0               Plot  Area  1st Phase JP Nagar    7.090077   7.0\n",
       "1     Super built-up  Area  1st Phase JP Nagar    7.239933   2.0\n",
       "2     Super built-up  Area  1st Phase JP Nagar    7.371489   3.0\n",
       "3     Super built-up  Area  1st Phase JP Nagar    7.536364   3.0\n",
       "4     Super built-up  Area  1st Phase JP Nagar    7.612831   3.0\n",
       "...                    ...                 ...         ...   ...\n",
       "6669  Super built-up  Area        Yeshwanthpur    7.434257   3.0\n",
       "6670  Super built-up  Area        Yeshwanthpur    7.446001   3.0\n",
       "6671  Super built-up  Area        Yeshwanthpur    7.522941   3.0\n",
       "6672  Super built-up  Area        Yeshwanthpur    7.575585   4.0\n",
       "6673  Super built-up  Area        Yeshwanthpur    7.152660   2.0\n",
       "\n",
       "[6674 rows x 4 columns]"
      ]
     },
     "execution_count": 60,
     "metadata": {},
     "output_type": "execute_result"
    }
   ],
   "source": [
    "\n",
    "# Independent Variables (Features)\n",
    "x \n"
   ]
  },
  {
   "cell_type": "code",
   "execution_count": 61,
   "id": "064a1015",
   "metadata": {},
   "outputs": [
    {
     "data": {
      "text/plain": [
       "0       5.480639\n",
       "1       4.605170\n",
       "2       4.875197\n",
       "3       5.117994\n",
       "4       5.056246\n",
       "          ...   \n",
       "6669    4.682131\n",
       "6670    4.700480\n",
       "6671    4.605170\n",
       "6672    4.867534\n",
       "6673    4.562419\n",
       "Name: price, Length: 6674, dtype: float64"
      ]
     },
     "execution_count": 61,
     "metadata": {},
     "output_type": "execute_result"
    }
   ],
   "source": [
    "\n",
    "# Dependent Variable (Target Column)\n",
    "y\n"
   ]
  },
  {
   "cell_type": "markdown",
   "id": "48ba84b5",
   "metadata": {},
   "source": [
    "# Linear Regression"
   ]
  },
  {
   "cell_type": "code",
   "execution_count": 62,
   "id": "c36bac36",
   "metadata": {},
   "outputs": [],
   "source": [
    "\n",
    "from sklearn.model_selection import  train_test_split\n",
    "\n",
    "from sklearn.compose import make_column_transformer\n",
    "\n",
    "from sklearn.preprocessing import MinMaxScaler,StandardScaler,OneHotEncoder\n",
    "\n",
    "from sklearn.linear_model import LinearRegression,Lasso,Ridge\n",
    "from sklearn.pipeline import make_pipeline\n",
    "from sklearn.metrics import r2_score\n"
   ]
  },
  {
   "cell_type": "code",
   "execution_count": 63,
   "id": "e806324f",
   "metadata": {},
   "outputs": [],
   "source": [
    "\n",
    "x_train,x_test,y_train,y_test = train_test_split(x,y, test_size=0.3,random_state=22)\n"
   ]
  },
  {
   "cell_type": "code",
   "execution_count": 64,
   "id": "e08c3361",
   "metadata": {},
   "outputs": [
    {
     "name": "stdout",
     "output_type": "stream",
     "text": [
      "(4671, 4)\n",
      "(2003, 4)\n"
     ]
    }
   ],
   "source": [
    "\n",
    "print(x_train.shape)\n",
    "print(x_test.shape)\n"
   ]
  },
  {
   "cell_type": "code",
   "execution_count": 65,
   "id": "c8a31571",
   "metadata": {},
   "outputs": [],
   "source": [
    "\n",
    "# one hot encoding\n",
    "col_trans = make_column_transformer((OneHotEncoder(sparse=False), ['location','area_type']),\n",
    "                                    remainder='passthrough')\n"
   ]
  },
  {
   "cell_type": "code",
   "execution_count": 66,
   "id": "8ab16c3b",
   "metadata": {},
   "outputs": [],
   "source": [
    "\n",
    "scaled = StandardScaler()\n"
   ]
  },
  {
   "cell_type": "code",
   "execution_count": 67,
   "id": "f8ccb48c",
   "metadata": {},
   "outputs": [],
   "source": [
    "\n",
    "lr=LinearRegression(normalize=True)\n"
   ]
  },
  {
   "cell_type": "code",
   "execution_count": 68,
   "id": "d3ef5120",
   "metadata": {},
   "outputs": [],
   "source": [
    "\n",
    "pipe = make_pipeline(col_trans,scaled,lr)\n"
   ]
  },
  {
   "cell_type": "code",
   "execution_count": 69,
   "id": "2dd7752b",
   "metadata": {},
   "outputs": [
    {
     "data": {
      "text/plain": [
       "Pipeline(steps=[('columntransformer',\n",
       "                 ColumnTransformer(remainder='passthrough',\n",
       "                                   transformers=[('onehotencoder',\n",
       "                                                  OneHotEncoder(sparse=False),\n",
       "                                                  ['location', 'area_type'])])),\n",
       "                ('standardscaler', StandardScaler()),\n",
       "                ('linearregression', LinearRegression(normalize=True))])"
      ]
     },
     "execution_count": 69,
     "metadata": {},
     "output_type": "execute_result"
    }
   ],
   "source": [
    "\n",
    "pipe.fit(x_train,y_train)\n"
   ]
  },
  {
   "cell_type": "code",
   "execution_count": 70,
   "id": "9aa1e790",
   "metadata": {},
   "outputs": [],
   "source": [
    "\n",
    "y_predicted = pipe.predict(x_test)\n"
   ]
  },
  {
   "cell_type": "code",
   "execution_count": 71,
   "id": "5493e2dc",
   "metadata": {},
   "outputs": [
    {
     "data": {
      "text/plain": [
       "0.8101442283301818"
      ]
     },
     "execution_count": 71,
     "metadata": {},
     "output_type": "execute_result"
    }
   ],
   "source": [
    "\n",
    "# R2 value\n",
    "\n",
    "r2_score (y_test,y_predicted)\n"
   ]
  },
  {
   "cell_type": "code",
   "execution_count": 72,
   "id": "7c05baa1",
   "metadata": {},
   "outputs": [
    {
     "data": {
      "text/plain": [
       "0.8074694874094117"
      ]
     },
     "execution_count": 72,
     "metadata": {},
     "output_type": "execute_result"
    }
   ],
   "source": [
    "\n",
    "# Adjusted R-squared\n",
    "\n",
    "1 - (1-pipe.score(x, y))*(len(y)-1)/(len(y)-x.shape[1]-1)\n"
   ]
  },
  {
   "cell_type": "markdown",
   "id": "4e1faecd",
   "metadata": {},
   "source": [
    "# Evaluation Matrices for the Model"
   ]
  },
  {
   "cell_type": "code",
   "execution_count": 73,
   "id": "6758c08f",
   "metadata": {},
   "outputs": [
    {
     "name": "stdout",
     "output_type": "stream",
     "text": [
      "Testing Accuracy: 0.8101442283301818\n",
      "\n",
      "Training Accuracy: 0.8064618757621531\n",
      "\n",
      "Mean Squared Error: 0.04523465350207817\n",
      "\n",
      "Root Mean Squared Error: 0.21268439882153597\n",
      "\n",
      "Mean Absolute Error: 0.1630027651419351\n",
      "\n"
     ]
    }
   ],
   "source": [
    "\n",
    "from sklearn.metrics import mean_squared_error as MSE\n",
    "\n",
    "accuracy0 = pipe.score(x_test,y_test)\n",
    "print(\"Testing Accuracy:\",accuracy0)\n",
    "print()\n",
    "\n",
    "print(\"Training Accuracy:\",pipe.score(x_train,y_train))\n",
    "print()\n",
    "\n",
    "MSE_score = MSE(y_test,y_predicted)\n",
    "print(\"Mean Squared Error:\",MSE_score.mean())\n",
    "print()\n",
    "\n",
    "import math\n",
    "print(\"Root Mean Squared Error:\",math.sqrt(MSE_score.mean())) \n",
    "print()\n",
    "\n",
    "from sklearn.metrics import mean_absolute_error\n",
    "print(\"Mean Absolute Error:\",mean_absolute_error(y_test, y_predicted))\n",
    "print()\n"
   ]
  },
  {
   "cell_type": "code",
   "execution_count": 74,
   "id": "5d5dd8f1",
   "metadata": {},
   "outputs": [],
   "source": [
    "\n",
    "col = ['Training Accuracy','Testing Accuracy' ,'MSE score','RMSE score','MAE score','R square','Adjusted R square']\n",
    "\n",
    "model_log_report1 = pd.DataFrame( \n",
    "                    {\n",
    "                    'Training Accuracy': [round(pipe.score(x_train, y_train),2)],\n",
    "                    'Testing Accuracy' : [round(pipe.score(x_test, y_test),2)], \n",
    "                    'MSE score': [round(MSE(y_test,y_predicted),2)],\n",
    "                    'RMSE score' : [round(math.sqrt(MSE_score.mean()),2)],\n",
    "                    'MAE score': [round(mean_absolute_error(y_test, y_predicted),2)],\n",
    "                    'R square'   : [round(r2_score (y_test,y_predicted),2)],\n",
    "                    'Adjusted R square' : [round(1 - (1-pipe.score(x, y))*(len(y)-1)/(len(y)-x.shape[1]-1),2)]\n",
    "                    },\n",
    "                    columns=col,index=['Linear Regression'])\n"
   ]
  },
  {
   "cell_type": "markdown",
   "id": "b7eda69d",
   "metadata": {},
   "source": [
    "# Lasso Regression"
   ]
  },
  {
   "cell_type": "code",
   "execution_count": 76,
   "id": "a4591fa4",
   "metadata": {},
   "outputs": [],
   "source": [
    "\n",
    "from sklearn.linear_model import Lasso\n"
   ]
  },
  {
   "cell_type": "code",
   "execution_count": 77,
   "id": "f99b7952",
   "metadata": {},
   "outputs": [
    {
     "name": "stdout",
     "output_type": "stream",
     "text": [
      "R2 value : 0.5910492191582313\n",
      "\n",
      "Adjusted R2: 0.5821138377685939\n",
      "\n",
      "Training Accuracy : 0.5785608621419338\n",
      "\n",
      "Testing Accuracy : 0.5910492191582313\n",
      "\n",
      "Mean Squared Error : 0.09743578879947482\n",
      "\n",
      "Root Mean Squared Error : 0.3121470627756648\n",
      "\n",
      "Mean Absolute Error : 0.24301491730908661\n"
     ]
    }
   ],
   "source": [
    "\n",
    "lassoreg=Lasso(alpha=0.001,normalize=True)\n",
    "\n",
    "\n",
    "pipe1 = make_pipeline(col_trans,scaled,lassoreg)\n",
    "pipe1.fit(x_train,y_train)\n",
    "\n",
    "y_predicted = pipe1.predict(x_test)\n",
    "print(\"R2 value :\",r2_score (y_test,y_predicted))\n",
    "print()\n",
    "print(\"Adjusted R2:\",1 - (1-pipe1.score(x, y))*(len(y)-1)/(len(y)-x.shape[1]-1))\n",
    "print()\n",
    "\n",
    "accuracy1 = pipe1.score(x_test,y_test)\n",
    "MSE_score1 = MSE(y_test,y_predicted)\n",
    "\n",
    "print(\"Training Accuracy :\",pipe1.score(x_train,y_train))\n",
    "print()\n",
    "print(\"Testing Accuracy :\",accuracy1)\n",
    "print()\n",
    "print(\"Mean Squared Error :\",MSE_score1.mean())\n",
    "print()\n",
    "\n",
    "print(\"Root Mean Squared Error :\",math.sqrt(MSE_score1.mean())) \n",
    "print()\n",
    "\n",
    "print(\"Mean Absolute Error :\",mean_absolute_error(y_test, y_predicted))\n"
   ]
  },
  {
   "cell_type": "code",
   "execution_count": 78,
   "id": "2137f5c7",
   "metadata": {},
   "outputs": [],
   "source": [
    "\n",
    "model_log_report2 = pd.DataFrame( \n",
    "                    {\n",
    "                    'Training Accuracy': [round(pipe1.score(x_train, y_train),2)],\n",
    "                    'Testing Accuracy' : [round(pipe1.score(x_test, y_test),2)], \n",
    "                    'MSE score': [round(MSE(y_test,y_predicted),2)],\n",
    "                    'RMSE score' : [round(math.sqrt(MSE_score1.mean()),2)],\n",
    "                    'MAE score': [round(mean_absolute_error(y_test, y_predicted),2)],\n",
    "                    'R square'   : [round(r2_score (y_test,y_predicted),2)],\n",
    "                    'Adjusted R square' : [round(1 - (1-pipe1.score(x, y))*(len(y)-1)/(len(y)-x.shape[1]-1),2)]\n",
    "                    },\n",
    "                    columns=col,index=['Lasso Regression'])\n"
   ]
  },
  {
   "cell_type": "markdown",
   "id": "8e2f0607",
   "metadata": {},
   "source": [
    "# Ridge Regression"
   ]
  },
  {
   "cell_type": "code",
   "execution_count": 80,
   "id": "95403e11",
   "metadata": {
    "scrolled": true
   },
   "outputs": [
    {
     "name": "stdout",
     "output_type": "stream",
     "text": [
      "R2 value : 0.8108034737272101\n",
      "\n",
      "Adjusted R2 : 0.807941944361105\n",
      "\n",
      "Training Accuracy : 0.80685232558839\n",
      "\n",
      "Testing Accuracy : 0.8108034737272101\n",
      "\n",
      "Mean Squared Error : 0.04507758302249711\n",
      "\n",
      "Root Mean Squared Error : 0.21231482054368486\n",
      "\n",
      "Mean Absolute Error : 0.16278511440575158\n"
     ]
    }
   ],
   "source": [
    "\n",
    "from sklearn.linear_model import Ridge\n",
    "\n",
    "ridgereg=Ridge(alpha=0.001,normalize=True)\n",
    "\n",
    "pipe2 = make_pipeline(col_trans,scaled,ridgereg)\n",
    "pipe2.fit(x_train,y_train)\n",
    "y_predicted = pipe2.predict(x_test)\n",
    "print(\"R2 value :\",r2_score (y_test,y_predicted))\n",
    "print()\n",
    "print(\"Adjusted R2 :\",1 - (1-pipe2.score(x, y))*(len(y)-1)/(len(y)-x.shape[1]-1))\n",
    "print()\n",
    "\n",
    "accuracy1 = pipe2.score(x_test,y_test)\n",
    "MSE_score1 = MSE(y_test,y_predicted)\n",
    "\n",
    "print(\"Training Accuracy :\",pipe2.score(x_train,y_train))\n",
    "print()\n",
    "print(\"Testing Accuracy :\",accuracy1)\n",
    "print()\n",
    "print(\"Mean Squared Error :\",MSE_score1.mean())\n",
    "print()\n",
    "\n",
    "print(\"Root Mean Squared Error :\",math.sqrt(MSE_score1.mean()))\n",
    "print()\n",
    "\n",
    "\n",
    "print(\"Mean Absolute Error :\",mean_absolute_error(y_test, y_predicted))\n"
   ]
  },
  {
   "cell_type": "code",
   "execution_count": 81,
   "id": "d3c054af",
   "metadata": {},
   "outputs": [],
   "source": [
    "\n",
    "model_log_report3 = pd.DataFrame( \n",
    "                    {\n",
    "                    'Training Accuracy': [round(pipe2.score(x_train, y_train),2)],\n",
    "                    'Testing Accuracy' : [round(pipe2.score(x_test, y_test),2)], \n",
    "                    'MSE score': [round(MSE(y_test,y_predicted),2)],\n",
    "                    'RMSE score' : [round(math.sqrt(MSE_score1.mean()),2)],\n",
    "                    'MAE score': [round(mean_absolute_error(y_test, y_predicted),2)],\n",
    "                    'R square'   : [round(r2_score (y_test,y_predicted),2)],\n",
    "                    'Adjusted R square' : [round(1 - (1-pipe2.score(x, y))*(len(y)-1)/(len(y)-x.shape[1]-1),2)]\n",
    "                    },\n",
    "                    columns=col,index=['Ridge Regression'])\n"
   ]
  },
  {
   "cell_type": "markdown",
   "id": "338dfe42",
   "metadata": {},
   "source": [
    "# Comparison of models"
   ]
  },
  {
   "cell_type": "code",
   "execution_count": 83,
   "id": "df21bd30",
   "metadata": {},
   "outputs": [],
   "source": [
    "\n",
    "model_comp = pd.DataFrame(columns=col)\n",
    "model_comp = pd.concat((model_log_report1,model_log_report2,model_log_report3))\n"
   ]
  },
  {
   "cell_type": "code",
   "execution_count": 84,
   "id": "42eedef9",
   "metadata": {},
   "outputs": [
    {
     "data": {
      "text/html": [
       "<div>\n",
       "<style scoped>\n",
       "    .dataframe tbody tr th:only-of-type {\n",
       "        vertical-align: middle;\n",
       "    }\n",
       "\n",
       "    .dataframe tbody tr th {\n",
       "        vertical-align: top;\n",
       "    }\n",
       "\n",
       "    .dataframe thead th {\n",
       "        text-align: right;\n",
       "    }\n",
       "</style>\n",
       "<table border=\"1\" class=\"dataframe\">\n",
       "  <thead>\n",
       "    <tr style=\"text-align: right;\">\n",
       "      <th></th>\n",
       "      <th>Training Accuracy</th>\n",
       "      <th>Testing Accuracy</th>\n",
       "      <th>MSE score</th>\n",
       "      <th>RMSE score</th>\n",
       "      <th>MAE score</th>\n",
       "      <th>R square</th>\n",
       "      <th>Adjusted R square</th>\n",
       "    </tr>\n",
       "  </thead>\n",
       "  <tbody>\n",
       "    <tr>\n",
       "      <th>Linear Regression</th>\n",
       "      <td>0.81</td>\n",
       "      <td>0.81</td>\n",
       "      <td>0.05</td>\n",
       "      <td>0.21</td>\n",
       "      <td>0.16</td>\n",
       "      <td>0.81</td>\n",
       "      <td>0.81</td>\n",
       "    </tr>\n",
       "    <tr>\n",
       "      <th>Lasso Regression</th>\n",
       "      <td>0.58</td>\n",
       "      <td>0.59</td>\n",
       "      <td>0.10</td>\n",
       "      <td>0.31</td>\n",
       "      <td>0.24</td>\n",
       "      <td>0.59</td>\n",
       "      <td>0.58</td>\n",
       "    </tr>\n",
       "    <tr>\n",
       "      <th>Ridge Regression</th>\n",
       "      <td>0.81</td>\n",
       "      <td>0.81</td>\n",
       "      <td>0.05</td>\n",
       "      <td>0.21</td>\n",
       "      <td>0.16</td>\n",
       "      <td>0.81</td>\n",
       "      <td>0.81</td>\n",
       "    </tr>\n",
       "  </tbody>\n",
       "</table>\n",
       "</div>"
      ],
      "text/plain": [
       "                   Training Accuracy  Testing Accuracy  MSE score  RMSE score  \\\n",
       "Linear Regression               0.81              0.81       0.05        0.21   \n",
       "Lasso Regression                0.58              0.59       0.10        0.31   \n",
       "Ridge Regression                0.81              0.81       0.05        0.21   \n",
       "\n",
       "                   MAE score  R square  Adjusted R square  \n",
       "Linear Regression       0.16      0.81               0.81  \n",
       "Lasso Regression        0.24      0.59               0.58  \n",
       "Ridge Regression        0.16      0.81               0.81  "
      ]
     },
     "execution_count": 84,
     "metadata": {},
     "output_type": "execute_result"
    }
   ],
   "source": [
    "\n",
    "model_comp\n"
   ]
  }
 ],
 "metadata": {
  "kernelspec": {
   "display_name": "Python 3 (ipykernel)",
   "language": "python",
   "name": "python3"
  },
  "language_info": {
   "codemirror_mode": {
    "name": "ipython",
    "version": 3
   },
   "file_extension": ".py",
   "mimetype": "text/x-python",
   "name": "python",
   "nbconvert_exporter": "python",
   "pygments_lexer": "ipython3",
   "version": "3.9.12"
  }
 },
 "nbformat": 4,
 "nbformat_minor": 5
}
